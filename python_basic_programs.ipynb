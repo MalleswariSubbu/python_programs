{
 "cells": [
  {
   "cell_type": "code",
   "execution_count": 13,
   "metadata": {},
   "outputs": [
    {
     "name": "stdout",
     "output_type": "stream",
     "text": [
      "Enter first number: 9\n",
      "Enter second number: 4\n",
      "Sum of  9  and  4  is  94\n",
      "Sum of 9 and 4 is 13\n",
      "Sum of given list [1, 2, 3, 4, 5] is 15\n"
     ]
    }
   ],
   "source": [
    "# Python3 program to add two numbers\n",
    "num1 = input(\"Enter first number: \")\n",
    "num2 = input(\"Enter second number: \")\n",
    "\n",
    "# Adding two numbers\n",
    "su = num1 + num2\n",
    "\n",
    "# Printing values\n",
    "# Input keyword takes as strings by default\n",
    "print(\"Sum of \", num1, \" and \", num2, \" is \", su)\n",
    "\n",
    "# parse the string into int\n",
    "su2 = int(num1) + int(num2)\n",
    "\n",
    "print(\"Sum of {0} and {1} is {2}\".format(num1, num2, su2))\n",
    "\n",
    "#using function\n",
    "num_list = [1,2,3,4,5]\n",
    "su_func = sum(num_list, 0)\n",
    "\n",
    "print(\"Sum of given list {0} is {1}\".format(num_list, su_func))"
   ]
  },
  {
   "cell_type": "code",
   "execution_count": 18,
   "metadata": {},
   "outputs": [
    {
     "name": "stdout",
     "output_type": "stream",
     "text": [
      "Enter first number: 7\n",
      "Enter second number: 4\n",
      "Maximum of 7 and 4 using max function is 7\n",
      "Maximum of 7 and 4 using logic is 7\n"
     ]
    }
   ],
   "source": [
    "# Find Maximum of two numbers in Python\n",
    "first_num = input(\"Enter first number: \")\n",
    "second_num = input(\"Enter second number: \")\n",
    "\n",
    "first_num = int(first_num)\n",
    "second_num = int(second_num)\n",
    "\n",
    "# Finding maximum of two using function max\n",
    "max_num = max(first_num, second_num)\n",
    "\n",
    "#print\n",
    "print(\"Maximum of {0} and {1} using max function is {2}\".format(first_num, second_num, max_num))\n",
    "\n",
    "# Logic used\n",
    "def find_max(a, b):\n",
    "    if a > b:\n",
    "        return a\n",
    "    else:\n",
    "        return b\n",
    "\n",
    "#print\n",
    "print(\"Maximum of {0} and {1} using logic is {2}\".format(first_num, second_num, find_max(first_num, second_num)))"
   ]
  },
  {
   "cell_type": "code",
   "execution_count": 8,
   "metadata": {},
   "outputs": [
    {
     "name": "stdout",
     "output_type": "stream",
     "text": [
      "Enter a non-negative integer for finding its factorial: -1\n",
      "Please enter a non-negative integer-2\n",
      "Please enter a non-negative integer-4\n",
      "Please enter a non-negative integer-5\n",
      "Please enter a non-negative integer-35\n",
      "Please enter a non-negative integer9\n",
      "Factorial of  9  is  362880\n"
     ]
    }
   ],
   "source": [
    "# Program to find factorial of a given number\n",
    "# Factorial of a non-negative integer, is multiplication of all integers smaller than or equal to n\n",
    "\n",
    "def factorial(n):\n",
    "    return 1 if (n==1) or (n==0) else n * factorial(n-1)\n",
    "\n",
    "# Take input\n",
    "n = int(input(\"Enter a non-negative integer for finding its factorial: \"))\n",
    "\n",
    "while (n < 0):\n",
    "    n = int(input(\"Please enter a non-negative integer\"))\n",
    "    \n",
    "# Print factorial\n",
    "print(\"Factorial of \", n, \" is \", factorial(n))"
   ]
  },
  {
   "cell_type": "code",
   "execution_count": 30,
   "metadata": {},
   "outputs": [
    {
     "name": "stdout",
     "output_type": "stream",
     "text": [
      "Enter the Principal amount : 1000\n",
      "Enter the Time period in years : 24\n",
      "Enter the Rate of Interest : 6\n",
      "Simple interest for given values is :  1440.0\n"
     ]
    }
   ],
   "source": [
    "# Program to find simple interest\n",
    "def simple_interest(p, t, r):\n",
    "    si = (p * t * r)/100\n",
    "    return si\n",
    "\n",
    "# Take input from the user\n",
    "p = int(input(\"Enter the Principal amount : \"))\n",
    "t = int(input(\"Enter the Time period in years : \"))\n",
    "r = int(input(\"Enter the Rate of Interest : \"))\n",
    "\n",
    "# print the values\n",
    "print(\"Simple interest for given values is : \", simple_interest(p, t, r))"
   ]
  },
  {
   "cell_type": "code",
   "execution_count": 31,
   "metadata": {},
   "outputs": [
    {
     "name": "stdout",
     "output_type": "stream",
     "text": [
      "Enter the principal amount : 1000\n",
      "Enter the time period in years : 24\n",
      "Enter the rate of interest : 6\n",
      "Compound Interest for given values is :  3048.9346412674417\n"
     ]
    }
   ],
   "source": [
    "# Program to find compound interest\n",
    "def compound_interest(principal, t, r):\n",
    "    Amount = principal * (pow((1 + r /100), t))\n",
    "    CI = Amount - principal\n",
    "    return CI\n",
    "\n",
    "# Take input from user\n",
    "p = int(input(\"Enter the principal amount : \"))\n",
    "t = int(input(\"Enter the time period in years : \"))\n",
    "r = int(input(\"Enter the rate of interest : \"))\n",
    "\n",
    "# print the values\n",
    "print(\"Compound Interest for given values is : \", compound_interest(p, t, r))"
   ]
  },
  {
   "cell_type": "code",
   "execution_count": 11,
   "metadata": {},
   "outputs": [
    {
     "name": "stdout",
     "output_type": "stream",
     "text": [
      "Enter a positive integer: 153\n",
      "153 is an Armstrong number\n"
     ]
    }
   ],
   "source": [
    "# Python program to check Armstrong number\n",
    "# Armstrong formula abcd.... = pow(a,n) + pow(b,n) + pow(c,n) + ....\n",
    "# where n is number of digits and abcd... is a positive integer\n",
    "\n",
    "def isArmstrongNum(num):\n",
    "    s = num\n",
    "    b = len(str(num))\n",
    "    #print(\"length\", b)\n",
    "    sum1 = 0\n",
    "    while num != 0:\n",
    "        r = num % 10\n",
    "        #print(\"r\", r)\n",
    "        sum1 = sum1 + r**b\n",
    "        num = num//10\n",
    "        #print(\"num\", num)\n",
    "    if s == sum1:\n",
    "        #print(s, \" \", sum1)\n",
    "        return True\n",
    "    else:\n",
    "        #print(s, \" \", sum1)\n",
    "        return False\n",
    "        \n",
    "inp = int(input(\"Enter a positive integer: \"))\n",
    "while(inp < 0):\n",
    "    inp = int(input(\"Enter a positive integer: \"))\n",
    "\n",
    "if(isArmstrongNum(inp)):\n",
    "    print(inp , \"is an Armstrong number\")\n",
    "else:\n",
    "    print(inp, \"is not an Armstrong number\")"
   ]
  },
  {
   "cell_type": "code",
   "execution_count": 16,
   "metadata": {},
   "outputs": [
    {
     "name": "stdout",
     "output_type": "stream",
     "text": [
      "Enter Radius of the circle: 6\n",
      "Area of the circle is 113.11200\n",
      "Area of the circle using functions is 113.09734\n"
     ]
    }
   ],
   "source": [
    "# Python program to find Area of a circle ie., A = pi * r2\n",
    "import math\n",
    "\n",
    "def findArea(r):\n",
    "    PI = 3.142\n",
    "    a = PI * (r * r)\n",
    "    return a\n",
    "\n",
    "def findAreaUsingFunc(r):\n",
    "    a = math.pi * pow(r, 2)\n",
    "    return a\n",
    "\n",
    "radius = int(input(\"Enter Radius of the circle: \"))\n",
    "print(\"Area of the circle is %.5f\" % findArea(radius))\n",
    "print(\"Area of the circle using functions is %.5f\" % findAreaUsingFunc(radius))"
   ]
  },
  {
   "cell_type": "code",
   "execution_count": 4,
   "metadata": {},
   "outputs": [
    {
     "name": "stdout",
     "output_type": "stream",
     "text": [
      "Enter Starting range number which is greater than 1: 2\n",
      "Enter ending range: 100\n",
      "The prime numbers in this range are:  [2, 3, 5, 7, 11, 13, 17, 19, 23, 29, 31, 37, 41, 43, 47, 53, 59, 61, 67, 71, 73, 79, 83, 89, 97]\n"
     ]
    }
   ],
   "source": [
    "# Python program to print all prime numbers in an interval\n",
    "# Prime number is a natural number greater than 1 and has no positive divisiors except 1 and itself\n",
    "\n",
    "def prime(starting_range, ending_range):\n",
    "    lst = []\n",
    "    flag = 0\n",
    "    for i in range(starting_range, ending_range):\n",
    "        for j in range (2, i):\n",
    "            if (i % j == 0):\n",
    "                flag = 1\n",
    "                break\n",
    "            else:\n",
    "                flag = 0\n",
    "        if(flag == 0):\n",
    "            lst.append(i)\n",
    "    return lst        \n",
    "\n",
    "start = int(input(\"Enter Starting range number which is greater than 1: \"))\n",
    "while(start < 2):\n",
    "    start = int(input(\"Enter Starting range number which is greater than 1: \"))\n",
    "end = int(input(\"Enter ending range: \"))\n",
    "\n",
    "lst = prime(start, end)\n",
    "if(len(lst)==0):\n",
    "    print(\"There are no prime numbers in this range\")\n",
    "else:\n",
    "    print(\"The prime numbers in this range are: \", lst)"
   ]
  },
  {
   "cell_type": "code",
   "execution_count": 12,
   "metadata": {},
   "outputs": [
    {
     "name": "stdout",
     "output_type": "stream",
     "text": [
      "Enter a positive number greater than 1 : 20\n",
      "20 is not a prime number\n"
     ]
    }
   ],
   "source": [
    "# Python program to check if given number is prime or not\n",
    "\n",
    "def isPrime(num):\n",
    "    flag = 0\n",
    "    for i in range (2, int(num/2)+1):\n",
    "        if(num%i == 0):\n",
    "            flag = 1\n",
    "            break\n",
    "        else:\n",
    "            flag = 0\n",
    "    if(flag == 0):\n",
    "        return True\n",
    "    else:\n",
    "        return False\n",
    "\n",
    "n = int(input(\"Enter a positive number greater than 1 : \"))\n",
    "while(n < 2):\n",
    "    n = int(input(\"Enter a positive number greater than 1 : \"))\n",
    "\n",
    "if(isPrime(n)):\n",
    "    print(n, \"is a prime number\")\n",
    "else:\n",
    "    print(n, \"is not a prime number\")"
   ]
  },
  {
   "cell_type": "code",
   "execution_count": 1,
   "metadata": {},
   "outputs": [
    {
     "name": "stdout",
     "output_type": "stream",
     "text": [
      "Enter a positive number greater than 0 : 4\n",
      "4 th Fibonacci number is 2\n"
     ]
    }
   ],
   "source": [
    "# Python program for nth Fibonacci number\n",
    "# Fn = Fn-1 + Fn-2 with seed values F0 = 0 and F1 = 1.\n",
    "\n",
    "def fibonacci(n):\n",
    "    if(n <= 0):\n",
    "        print(\"Incorrect input\")\n",
    "    elif(n == 1):\n",
    "        return 0\n",
    "    elif(n == 2):\n",
    "        return 1\n",
    "    else:\n",
    "        return fibonacci(n-1)+fibonacci(n-2)\n",
    "\n",
    "n = int(input(\"Enter a positive number greater than 0 : \"))\n",
    "fn = fibonacci(n)\n",
    "if(n > 0):\n",
    "    print(n, \"th Fibonacci number is\", fn)"
   ]
  },
  {
   "cell_type": "code",
   "execution_count": 7,
   "metadata": {},
   "outputs": [
    {
     "name": "stdout",
     "output_type": "stream",
     "text": [
      "Enter a positive number greater than 0 : 2\n",
      "2 is a Fibonacci number\n"
     ]
    }
   ],
   "source": [
    "# Python program to check if a given number is Fibonacci number or not?\n",
    "# A number is Fibonacci if and only if one or both of (5*n2 + 4) or (5*n2 – 4) is a perfect square\n",
    "\n",
    "import math\n",
    "# Utility function to check if given number is Perfect square or not\n",
    "def isPerfectSquare(num):\n",
    "    s = int(math.sqrt(num))\n",
    "    return (s * s == num)\n",
    "\n",
    "def isFibonacci(n):\n",
    "    return isPerfectSquare(5*n*n + 4) or isPerfectSquare(5*n*n - 4)\n",
    "\n",
    "inp = int(input(\"Enter a positive number greater than 0 : \"))\n",
    "if(isFibonacci(inp)):\n",
    "    print(inp, \"is a Fibonacci number\")\n",
    "else:\n",
    "    print(inp, \"is not a Fibonacci number\")"
   ]
  },
  {
   "cell_type": "code",
   "execution_count": 8,
   "metadata": {},
   "outputs": [
    {
     "name": "stdout",
     "output_type": "stream",
     "text": [
      "Enter the number k : 2\n",
      "Enter the multiple n : 3\n",
      "Position of nth multiple of k in Fibonacci series is :  9\n"
     ]
    }
   ],
   "source": [
    "# Python Program to find position of nth multiple of a number k in Fibonacci Series\n",
    "\n",
    "def findPosition(k, n):\n",
    "    f1 = 0\n",
    "    f2 = 1\n",
    "    i = 2\n",
    "    while(i != 0):\n",
    "        f3 = f1 + f2\n",
    "        f1 = f2\n",
    "        f2 = f3\n",
    "        if(f2%k == 0):\n",
    "            return n*i\n",
    "        i+=1\n",
    "    return\n",
    "\n",
    "# Number of whose multiple we are finding\n",
    "k = int(input(\"Enter the number k : \"))\n",
    "\n",
    "# Multiple number\n",
    "n = int(input(\"Enter the multiple n : \"))\n",
    "\n",
    "print(\"Position of nth multiple of k in Fibonacci series is : \", findPosition(k,n))"
   ]
  },
  {
   "cell_type": "code",
   "execution_count": 11,
   "metadata": {},
   "outputs": [
    {
     "name": "stdout",
     "output_type": "stream",
     "text": [
      "Enter a character: u\n",
      "ASCII value of the entered character is 117\n"
     ]
    }
   ],
   "source": [
    "# Python program to print ASCII value of a character\n",
    "\n",
    "# Utility function to find ASCII value of a character\n",
    "def findAscii(c):\n",
    "    return ord(c)\n",
    "\n",
    "char = input(\"Enter a character: \")\n",
    "print(\"ASCII value of the entered character is\", findAscii(char))"
   ]
  },
  {
   "cell_type": "code",
   "execution_count": 16,
   "metadata": {},
   "outputs": [
    {
     "name": "stdout",
     "output_type": "stream",
     "text": [
      "Enter a number : 6\n",
      "The sum of squares of first 6 natural numbers is 91\n"
     ]
    }
   ],
   "source": [
    "# Python program for finding the sum of squares of first N natural numbers\n",
    "# Given a positive integer N. The task is to find 12 + 22 + 32 + ….. + N2\n",
    "\n",
    "def sumOfSquaresOfN(n):\n",
    "    su = 0\n",
    "    for i in range(1, n+1):\n",
    "        su = su + (i * i)\n",
    "    return su \n",
    "\n",
    "num = int(input(\"Enter a number : \"))\n",
    "print(\"The sum of squares of first\", num, \"natural numbers is\", sumOfSquaresOfN(num))"
   ]
  },
  {
   "cell_type": "code",
   "execution_count": 18,
   "metadata": {},
   "outputs": [
    {
     "name": "stdout",
     "output_type": "stream",
     "text": [
      "Enter a number : 5\n",
      "The sum of cubes of first 5 natural numbers is 225\n"
     ]
    }
   ],
   "source": [
    "# Python program for cube sum of first N natural numbers\n",
    "# Print the sum of series 13 + 23 + 33 + 43 + …….+ n3 till n-th term\n",
    "\n",
    "def sumOfCubesOfN(n):\n",
    "    su = 0\n",
    "    for i in range(1, n+1):\n",
    "        su = su + (i * i * i)\n",
    "    return su\n",
    "\n",
    "num = int(input(\"Enter a number : \"))\n",
    "print(\"The sum of cubes of first\", num, \"natural numbers is\", sumOfCubesOfN(num))"
   ]
  },
  {
   "cell_type": "code",
   "execution_count": null,
   "metadata": {},
   "outputs": [],
   "source": []
  }
 ],
 "metadata": {
  "kernelspec": {
   "display_name": "Python 3",
   "language": "python",
   "name": "python3"
  },
  "language_info": {
   "codemirror_mode": {
    "name": "ipython",
    "version": 3
   },
   "file_extension": ".py",
   "mimetype": "text/x-python",
   "name": "python",
   "nbconvert_exporter": "python",
   "pygments_lexer": "ipython3",
   "version": "3.8.5"
  }
 },
 "nbformat": 4,
 "nbformat_minor": 4
}
