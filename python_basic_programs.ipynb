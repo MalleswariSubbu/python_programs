{
 "cells": [
  {
   "cell_type": "code",
   "execution_count": 13,
   "metadata": {},
   "outputs": [
    {
     "name": "stdout",
     "output_type": "stream",
     "text": [
      "Enter first number: 9\n",
      "Enter second number: 4\n",
      "Sum of  9  and  4  is  94\n",
      "Sum of 9 and 4 is 13\n",
      "Sum of given list [1, 2, 3, 4, 5] is 15\n"
     ]
    }
   ],
   "source": [
    "# Python3 program to add two numbers\n",
    "num1 = input(\"Enter first number: \")\n",
    "num2 = input(\"Enter second number: \")\n",
    "\n",
    "# Adding two numbers\n",
    "su = num1 + num2\n",
    "\n",
    "# Printing values\n",
    "# Input keyword takes as strings by default\n",
    "print(\"Sum of \", num1, \" and \", num2, \" is \", su)\n",
    "\n",
    "# parse the string into int\n",
    "su2 = int(num1) + int(num2)\n",
    "\n",
    "print(\"Sum of {0} and {1} is {2}\".format(num1, num2, su2))\n",
    "\n",
    "#using function\n",
    "num_list = [1,2,3,4,5]\n",
    "su_func = sum(num_list, 0)\n",
    "\n",
    "print(\"Sum of given list {0} is {1}\".format(num_list, su_func))"
   ]
  },
  {
   "cell_type": "code",
   "execution_count": 18,
   "metadata": {},
   "outputs": [
    {
     "name": "stdout",
     "output_type": "stream",
     "text": [
      "Enter first number: 7\n",
      "Enter second number: 4\n",
      "Maximum of 7 and 4 using max function is 7\n",
      "Maximum of 7 and 4 using logic is 7\n"
     ]
    }
   ],
   "source": [
    "# Find Maximum of two numbers in Python\n",
    "first_num = input(\"Enter first number: \")\n",
    "second_num = input(\"Enter second number: \")\n",
    "\n",
    "first_num = int(first_num)\n",
    "second_num = int(second_num)\n",
    "\n",
    "# Finding maximum of two using function max\n",
    "max_num = max(first_num, second_num)\n",
    "\n",
    "#print\n",
    "print(\"Maximum of {0} and {1} using max function is {2}\".format(first_num, second_num, max_num))\n",
    "\n",
    "# Logic used\n",
    "def find_max(a, b):\n",
    "    if a > b:\n",
    "        return a\n",
    "    else:\n",
    "        return b\n",
    "\n",
    "#print\n",
    "print(\"Maximum of {0} and {1} using logic is {2}\".format(first_num, second_num, find_max(first_num, second_num)))"
   ]
  },
  {
   "cell_type": "code",
   "execution_count": 8,
   "metadata": {},
   "outputs": [
    {
     "name": "stdout",
     "output_type": "stream",
     "text": [
      "Enter a non-negative integer for finding its factorial: -1\n",
      "Please enter a non-negative integer-2\n",
      "Please enter a non-negative integer-4\n",
      "Please enter a non-negative integer-5\n",
      "Please enter a non-negative integer-35\n",
      "Please enter a non-negative integer9\n",
      "Factorial of  9  is  362880\n"
     ]
    }
   ],
   "source": [
    "# Program to find factorial of a given number\n",
    "# Factorial of a non-negative integer, is multiplication of all integers smaller than or equal to n\n",
    "\n",
    "def factorial(n):\n",
    "    return 1 if (n==1) or (n==0) else n * factorial(n-1)\n",
    "\n",
    "# Take input\n",
    "n = int(input(\"Enter a non-negative integer for finding its factorial: \"))\n",
    "\n",
    "while (n < 0):\n",
    "    n = int(input(\"Please enter a non-negative integer\"))\n",
    "    \n",
    "# Print factorial\n",
    "print(\"Factorial of \", n, \" is \", factorial(n))"
   ]
  },
  {
   "cell_type": "code",
   "execution_count": 30,
   "metadata": {},
   "outputs": [
    {
     "name": "stdout",
     "output_type": "stream",
     "text": [
      "Enter the Principal amount : 1000\n",
      "Enter the Time period in years : 24\n",
      "Enter the Rate of Interest : 6\n",
      "Simple interest for given values is :  1440.0\n"
     ]
    }
   ],
   "source": [
    "# Program to find simple interest\n",
    "def simple_interest(p, t, r):\n",
    "    si = (p * t * r)/100\n",
    "    return si\n",
    "\n",
    "# Take input from the user\n",
    "p = int(input(\"Enter the Principal amount : \"))\n",
    "t = int(input(\"Enter the Time period in years : \"))\n",
    "r = int(input(\"Enter the Rate of Interest : \"))\n",
    "\n",
    "# print the values\n",
    "print(\"Simple interest for given values is : \", simple_interest(p, t, r))"
   ]
  },
  {
   "cell_type": "code",
   "execution_count": 31,
   "metadata": {},
   "outputs": [
    {
     "name": "stdout",
     "output_type": "stream",
     "text": [
      "Enter the principal amount : 1000\n",
      "Enter the time period in years : 24\n",
      "Enter the rate of interest : 6\n",
      "Compound Interest for given values is :  3048.9346412674417\n"
     ]
    }
   ],
   "source": [
    "# Program to find compound interest\n",
    "def compound_interest(principal, t, r):\n",
    "    Amount = principal * (pow((1 + r /100), t))\n",
    "    CI = Amount - principal\n",
    "    return CI\n",
    "\n",
    "# Take input from user\n",
    "p = int(input(\"Enter the principal amount : \"))\n",
    "t = int(input(\"Enter the time period in years : \"))\n",
    "r = int(input(\"Enter the rate of interest : \"))\n",
    "\n",
    "# print the values\n",
    "print(\"Compound Interest for given values is : \", compound_interest(p, t, r))"
   ]
  },
  {
   "cell_type": "code",
   "execution_count": null,
   "metadata": {},
   "outputs": [],
   "source": []
  }
 ],
 "metadata": {
  "kernelspec": {
   "display_name": "Python 3",
   "language": "python",
   "name": "python3"
  },
  "language_info": {
   "codemirror_mode": {
    "name": "ipython",
    "version": 3
   },
   "file_extension": ".py",
   "mimetype": "text/x-python",
   "name": "python",
   "nbconvert_exporter": "python",
   "pygments_lexer": "ipython3",
   "version": "3.8.5"
  }
 },
 "nbformat": 4,
 "nbformat_minor": 4
}
