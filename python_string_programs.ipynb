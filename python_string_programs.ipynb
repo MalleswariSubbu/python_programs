{
 "cells": [
  {
   "cell_type": "code",
   "execution_count": 4,
   "metadata": {},
   "outputs": [
    {
     "name": "stdout",
     "output_type": "stream",
     "text": [
      "church is not a palindrome\n",
      "maam is palindrome\n",
      "church is not a palindrome\n",
      "maam is palindrome\n"
     ]
    }
   ],
   "source": [
    "# python program to check if a string is palindrome or not\n",
    "\n",
    "def is_palindrome(s):\n",
    "    r = s[::-1]\n",
    "    return s == r\n",
    "\n",
    "def is_palindrome_using_reverse(s):\n",
    "    rev = ''.join(reversed(s))\n",
    "    return s == rev\n",
    "\n",
    "# input string\n",
    "s1 = \"church\"\n",
    "s2 = \"maam\"\n",
    "\n",
    "if(is_palindrome(s1)):\n",
    "    print(s1, \"is palindrome\")\n",
    "else:\n",
    "    print(s1, \"is not a palindrome\")\n",
    "    \n",
    "if(is_palindrome(s2)):\n",
    "    print(s2, \"is palindrome\")\n",
    "else:\n",
    "    print(s2, \"is not a palindrome\")    \n",
    "    \n",
    "if(is_palindrome_using_reverse(s1)):\n",
    "    print(s1, \"is palindrome\")\n",
    "else:\n",
    "    print(s1, \"is not a palindrome\")\n",
    "    \n",
    "if(is_palindrome_using_reverse(s2)):\n",
    "    print(s2, \"is palindrome\")\n",
    "else:\n",
    "    print(s2, \"is not a palindrome\")    "
   ]
  },
  {
   "cell_type": "code",
   "execution_count": 11,
   "metadata": {},
   "outputs": [
    {
     "name": "stdout",
     "output_type": "stream",
     "text": [
      "amaama is Symmetrical\n",
      "amaama is Palindrome\n"
     ]
    }
   ],
   "source": [
    "# Python program to check if given string is symmetrical or palindrome\n",
    "\n",
    "t = \"coocoo\"\n",
    "s = \"amaama\"\n",
    "half = int(len(s)/2)\n",
    "\n",
    "first_string = s[:half]\n",
    "second_string = s[half:]\n",
    "\n",
    "# condition for Symmetrical\n",
    "if first_string == second_string:\n",
    "    print(s, \"is Symmetrical\")\n",
    "else:\n",
    "    print(s, \"is not Symmetrical\")\n",
    "\n",
    "# condition for Palindrome\n",
    "if is_palindrome(s):\n",
    "    print(s, \"is Palindrome\")\n",
    "else:\n",
    "    print(s, \"is not Palindrome\")    "
   ]
  },
  {
   "cell_type": "code",
   "execution_count": 21,
   "metadata": {},
   "outputs": [
    {
     "name": "stdout",
     "output_type": "stream",
     "text": [
      "Given String : This is a python program to reverse words in a given string\n",
      "Reverse of a given string is :  string given a in words reverse to program python a is This\n",
      "Reverse of a given string in another way is : string given a in words reverse to program python a is This\n"
     ]
    }
   ],
   "source": [
    "# Python program to reverse words in a given string\n",
    "\n",
    "#logic to reverse words in a given string using array slicing\n",
    "def reverse_string_words(string):\n",
    "    rev_string = string.split()[::-1]\n",
    "    temp = []\n",
    "    for i in rev_string:\n",
    "        temp.append(i)\n",
    "    rev = \" \".join(temp)    \n",
    "    return rev\n",
    "\n",
    "#another way using reversed function\n",
    "def reverse_string_words_rev(sentence):\n",
    "    words = sentence.split(\" \")\n",
    "    rev = reversed(words)\n",
    "    rev_string = \" \".join(rev)\n",
    "    return rev_string\n",
    "\n",
    "# input string\n",
    "string = \"This is a python program to reverse words in a given string\"\n",
    "print(\"Given String :\", string)\n",
    "print(\"Reverse of a given string is : \", reverse_string_words(string))\n",
    "print(\"Reverse of a given string in another way is :\", reverse_string_words_rev(string))"
   ]
  },
  {
   "cell_type": "code",
   "execution_count": 15,
   "metadata": {},
   "outputs": [
    {
     "name": "stdout",
     "output_type": "stream",
     "text": [
      "stringgivenainwordsreversetoprogrampythonaisThis\n"
     ]
    }
   ],
   "source": []
  },
  {
   "cell_type": "code",
   "execution_count": 16,
   "metadata": {},
   "outputs": [
    {
     "data": {
      "text/plain": [
       "['string',\n",
       " 'given',\n",
       " 'a',\n",
       " 'in',\n",
       " 'words',\n",
       " 'reverse',\n",
       " 'to',\n",
       " 'program',\n",
       " 'python',\n",
       " 'a',\n",
       " 'is',\n",
       " 'This']"
      ]
     },
     "execution_count": 16,
     "metadata": {},
     "output_type": "execute_result"
    }
   ],
   "source": []
  },
  {
   "cell_type": "code",
   "execution_count": 17,
   "metadata": {},
   "outputs": [
    {
     "name": "stdout",
     "output_type": "stream",
     "text": [
      "stringgivenainwordsreversetoprogrampythonaisThis\n"
     ]
    }
   ],
   "source": [
    "print(\"\".join(temp))"
   ]
  },
  {
   "cell_type": "code",
   "execution_count": null,
   "metadata": {},
   "outputs": [],
   "source": []
  }
 ],
 "metadata": {
  "kernelspec": {
   "display_name": "Python 3",
   "language": "python",
   "name": "python3"
  },
  "language_info": {
   "codemirror_mode": {
    "name": "ipython",
    "version": 3
   },
   "file_extension": ".py",
   "mimetype": "text/x-python",
   "name": "python",
   "nbconvert_exporter": "python",
   "pygments_lexer": "ipython3",
   "version": "3.8.5"
  }
 },
 "nbformat": 4,
 "nbformat_minor": 4
}
