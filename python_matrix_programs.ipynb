{
 "cells": [
  {
   "cell_type": "code",
   "execution_count": 5,
   "metadata": {},
   "outputs": [
    {
     "name": "stdout",
     "output_type": "stream",
     "text": [
      "[4, 7, 10]\n",
      "[11, 7, 15]\n",
      "[3, 4, 9]\n",
      "[4, 7, 10]\n",
      "[11, 7, 15]\n",
      "[3, 4, 9]\n",
      "[<map object at 0x7f9d5af041c0>, <map object at 0x7f9d5af04250>, <map object at 0x7f9d5af042e0>]\n",
      "[[ 4  7 10]\n",
      " [11  7 15]\n",
      " [ 3  4  9]]\n",
      "Matrix([[4, 7, 10], [11, 7, 15], [3, 4, 9]])\n"
     ]
    }
   ],
   "source": [
    "# Python program to add two matrices\n",
    "from sympy import Matrix\n",
    "import numpy as np\n",
    "# Utility function to add matrices using for loop\n",
    "def add_matrix_for(X, Y, result, len_x, len_y):\n",
    "    # iterate over loop and add elements\n",
    "    for i in range(len_x):\n",
    "        for j in range(len_y):\n",
    "            result[i][j] = X[i][j] + Y[i][j]\n",
    "    # print added result matrix\n",
    "    for k in result:\n",
    "        print(k)\n",
    "\n",
    "# Utility function to add matrices using list comprehension\n",
    "def add_matrix_list(X, Y, len_x, len_y):\n",
    "    result_list = [[X[i][j] + Y[i][j] for j in range(len_y)] for i in range(len_x)]\n",
    "    for r in result_list:\n",
    "        print(r)\n",
    "\n",
    "# Utility function to add matrices using zip function\n",
    "def add_matrix_zip(X, Y):\n",
    "    result = [map(sum, zip(*t)) for t in zip(X, Y)]\n",
    "    print(result)\n",
    "\n",
    "# Utility function to add matrices using numpy arrays and +\n",
    "def add_matrix_numpy_arr(X, Y):\n",
    "    result =  np.array(X) + np.array(Y)\n",
    "    print(result)\n",
    "    \n",
    "# Utility function to add matrices using Matrix class from sympy library\n",
    "def add_matrix_sympy_matrix(X, Y):\n",
    "    result = Matrix(X) + Matrix(Y)\n",
    "    print(result)\n",
    "    \n",
    "\n",
    "# inputs\n",
    "X = [[1,2,3],\n",
    "     [4,5,6],\n",
    "     [2,4,6]]\n",
    "\n",
    "Y = [[3,5,7],\n",
    "     [7,2,9],\n",
    "     [1,0,3]]\n",
    "\n",
    "result = [[0,0,0],\n",
    "          [0,0,0],\n",
    "          [0,0,0]]\n",
    "\n",
    "len_x = len(X)\n",
    "len_y = len(X[0])\n",
    "\n",
    "# call functions\n",
    "add_matrix_for(X, Y, result, len_x, len_y)\n",
    "add_matrix_list(X, Y, len_x, len_y)\n",
    "add_matrix_zip(X, Y)\n",
    "add_matrix_numpy_arr(X, Y)\n",
    "add_matrix_sympy_matrix(X, Y)"
   ]
  },
  {
   "cell_type": "code",
   "execution_count": 6,
   "metadata": {},
   "outputs": [
    {
     "name": "stdout",
     "output_type": "stream",
     "text": [
      "[37 53]\n",
      "[ 82 107]\n",
      "[67 89]\n"
     ]
    }
   ],
   "source": [
    "# Python program to multiply two matrices\n",
    "\n",
    "A = [[1, 2, 3, 4],\n",
    "     [4, 5, 6, 7],\n",
    "     [3, 4, 5, 6]]\n",
    "\n",
    "B = [[3, 2],\n",
    "     [4, 3],\n",
    "     [6, 7],\n",
    "     [2, 6]]\n",
    "\n",
    "res = np.dot(A, B)\n",
    "\n",
    "for i in res:\n",
    "    print(i)"
   ]
  },
  {
   "cell_type": "code",
   "execution_count": 7,
   "metadata": {},
   "outputs": [
    {
     "name": "stdout",
     "output_type": "stream",
     "text": [
      "Product of all the elements in the list is:  25200\n"
     ]
    }
   ],
   "source": [
    "# Python program for matrix product\n",
    "\n",
    "# initializing list\n",
    "matrix_list = [[1, 2, 3], [4, 5, 6], [1, 7, 5]]\n",
    "\n",
    "res = 1\n",
    "for i in matrix_list:\n",
    "    for j in i:\n",
    "        res *= j\n",
    "\n",
    "# printing result        \n",
    "print(\"Product of all the elements in the list is: \", res)        "
   ]
  },
  {
   "cell_type": "code",
   "execution_count": 8,
   "metadata": {},
   "outputs": [
    {
     "name": "stdout",
     "output_type": "stream",
     "text": [
      "Addition of two matrices : [[5 8]\n",
      " [7 7]]\n",
      "\n",
      "Subtraction of two matrices : [[-3 -4]\n",
      " [-1  1]]\n"
     ]
    }
   ],
   "source": [
    "# Adding and Subtracting Matrices in Python\n",
    "\n",
    "# Inititalizing matrices\n",
    "A = np.array([[1, 2], [3, 4]])\n",
    "B = np.array([[4, 6], [4, 3]])\n",
    "\n",
    "print(\"Addition of two matrices :\", np.add(A, B))\n",
    "print()\n",
    "print(\"Subtraction of two matrices :\", np.subtract(A, B))"
   ]
  },
  {
   "cell_type": "code",
   "execution_count": 11,
   "metadata": {},
   "outputs": [
    {
     "name": "stdout",
     "output_type": "stream",
     "text": [
      "Transpose matrix for given matrix is : [[2 4]\n",
      " [3 5]]\n",
      "\n",
      "Transpose matrix for given matrix is : [[2 4]\n",
      " [3 5]]\n"
     ]
    }
   ],
   "source": [
    "# Python program for Transpose of a matrix in a single line\n",
    "\n",
    "# Creating matrix\n",
    "C = [[2, 3], \n",
    "     [4, 5]]\n",
    "\n",
    "D = np.transpose(C)\n",
    "print(\"Transpose matrix for given matrix is :\", D)\n",
    "print()\n",
    "\n",
    "# another way\n",
    "print(\"Transpose matrix for given matrix is :\", np.array(C).T)"
   ]
  },
  {
   "cell_type": "code",
   "execution_count": 13,
   "metadata": {},
   "outputs": [
    {
     "name": "stdout",
     "output_type": "stream",
     "text": [
      "matrix of dimension  5 is : [[1, 2, 3, 4, 5], [6, 7, 8, 9, 10], [11, 12, 13, 14, 15], [16, 17, 18, 19, 20], [21, 22, 23, 24, 25]]\n"
     ]
    }
   ],
   "source": [
    "# Python program for matrix creation of n*n\n",
    "\n",
    "#Dimension initialization\n",
    "N = 5\n",
    "\n",
    "res = []\n",
    "for i in range(N):\n",
    "    row = []\n",
    "    for j in range(N):\n",
    "        row.append(1 + N * i + j)\n",
    "    res.append(row)\n",
    "    \n",
    "print(\"matrix of dimension \", N, \"is :\", res)    "
   ]
  },
  {
   "cell_type": "code",
   "execution_count": 21,
   "metadata": {},
   "outputs": [
    {
     "name": "stdout",
     "output_type": "stream",
     "text": [
      "4 th column in matrix is : [5, 1, 7]\n",
      "4 th column using slicing is : [5 1 7]\n"
     ]
    }
   ],
   "source": [
    "# Python program for getting Kth column of matrix\n",
    "\n",
    "# Initializing values\n",
    "A = np.array([[1, 2, 3, 4, 5, 6],\n",
    "              [7, 8, 9, 0, 1, 2],\n",
    "              [3, 4, 5, 6, 7, 8]])\n",
    "\n",
    "K = 4\n",
    "\n",
    "# Using list slicing\n",
    "r = [row[K] for row in A]\n",
    "\n",
    "print(K, \"th column in matrix is :\", r)\n",
    "\n",
    "# another way\n",
    "print(K, \"th column using slicing is :\", A[:,K])"
   ]
  },
  {
   "cell_type": "code",
   "execution_count": 26,
   "metadata": {},
   "outputs": [
    {
     "name": "stdout",
     "output_type": "stream",
     "text": [
      "Vertical concatenation of given string matrix : ['Todayab', 'iscd', 'aef', 'goodis', 'dayat']\n"
     ]
    }
   ],
   "source": [
    "# Python program for vertical concatenation of string matrix\n",
    "from itertools import zip_longest\n",
    "\n",
    "test_list = [[\"Today\", \"is\", \"a\", \"good\", \"day\"],\n",
    "             [\"ab\", \"cd\", \"ef\", \"is\", \"at\"]]\n",
    "\n",
    "v_list = [\"\".join(elem) for elem in zip_longest(*test_list, fillvalue=\"\")]\n",
    "\n",
    "print(\"Vertical concatenation of given string matrix :\", v_list)"
   ]
  },
  {
   "cell_type": "code",
   "execution_count": null,
   "metadata": {},
   "outputs": [],
   "source": []
  }
 ],
 "metadata": {
  "kernelspec": {
   "display_name": "Python 3",
   "language": "python",
   "name": "python3"
  },
  "language_info": {
   "codemirror_mode": {
    "name": "ipython",
    "version": 3
   },
   "file_extension": ".py",
   "mimetype": "text/x-python",
   "name": "python",
   "nbconvert_exporter": "python",
   "pygments_lexer": "ipython3",
   "version": "3.8.5"
  }
 },
 "nbformat": 4,
 "nbformat_minor": 4
}
