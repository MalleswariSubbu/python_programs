{
 "cells": [
  {
   "cell_type": "code",
   "execution_count": 22,
   "metadata": {},
   "outputs": [
    {
     "name": "stdout",
     "output_type": "stream",
     "text": [
      "Sum of the elements in the array is : 70\n",
      "Sum of the array using built-in sum function is : 70\n",
      "Sum of the array using reduce function is : 70\n",
      "Sum of the array using enumerate function is : 70\n",
      "Sum of the array using Divide and Conquer is : 70\n",
      "Sum of the array using Counter is : 70\n"
     ]
    }
   ],
   "source": [
    "# Python program to find sum of array\n",
    "from functools import reduce\n",
    "from collections import Counter\n",
    "\n",
    "# Utility function with regular adding using + operator\n",
    "def _sum(arr):\n",
    "    su = 0\n",
    "    for i in arr:\n",
    "        su = su + i\n",
    "    return su\n",
    "\n",
    "# Utility function using max\n",
    "def sumUsingSum(arr):\n",
    "    return sum(arr)\n",
    "    \n",
    "# Utility function using reduce from functools\n",
    "def sumUsingReduce(arr):\n",
    "    su = reduce(lambda a, b : a+b, arr)\n",
    "    return su\n",
    "\n",
    "# Utility function using enumerate\n",
    "def sumUsingEnumerate(arr):\n",
    "    su = 0\n",
    "    for i,a in enumerate(arr):\n",
    "        su+=a\n",
    "    return su \n",
    "\n",
    "#Utility function using Divide and Conquer\n",
    "def sumUsingDivideAndConquer(arr, low, high):\n",
    "    if low == high:\n",
    "        return arr[low]\n",
    "    mid = (low + high) // 2\n",
    "    left_sum = sumUsingDivideAndConquer(arr, low, mid)\n",
    "    right_sum = sumUsingDivideAndConquer(arr, mid+1, high)\n",
    "    return left_sum + right_sum\n",
    "\n",
    "#Utility function using Counter method\n",
    "def sumUsingCounter(arr):\n",
    "    c = Counter(arr)\n",
    "    su = 0\n",
    "    for key,value in c.items():\n",
    "        su += key*value\n",
    "    return su\n",
    "\n",
    "# initialize array\n",
    "arr = [12, 34, 4, 5, 15]\n",
    "\n",
    "print(\"Sum of the elements in the array is :\", _sum(arr))\n",
    "print(\"Sum of the array using built-in sum function is :\", sumUsingSum(arr))\n",
    "print(\"Sum of the array using reduce function is :\", sumUsingReduce(arr))\n",
    "print(\"Sum of the array using enumerate function is :\", sumUsingEnumerate(arr))\n",
    "print(\"Sum of the array using Divide and Conquer is :\", sumUsingDivideAndConquer(arr, 0, len(arr)-1))\n",
    "print(\"Sum of the array using Counter is :\",sumUsingCounter(arr))"
   ]
  },
  {
   "cell_type": "code",
   "execution_count": 23,
   "metadata": {},
   "outputs": [
    {
     "name": "stdout",
     "output_type": "stream",
     "text": [
      "Largest element in the array using native approach is : 234\n",
      "Largest element in the array using max function is : 234\n",
      "Largest element in the array using sort funtion is : 234\n",
      "Largest element in the array using reduce function is : 234\n",
      "Largest element in the array using operator function is : 234\n",
      "Largest element in the array using lambada function is : 234\n"
     ]
    }
   ],
   "source": [
    "# Python program to find the largest element in the array\n",
    "import operator\n",
    "\n",
    "# Utility function to find largest element using Native approach\n",
    "def findLargest(arr, l):\n",
    "    ma = arr[0]\n",
    "    for i in range(1, l):\n",
    "        if arr[i] > ma:\n",
    "            ma = arr[i]\n",
    "    return ma\n",
    "\n",
    "# Utility function to find largest element using built-in function max\n",
    "def findLargestUsingMax(arr):\n",
    "    return max(arr)\n",
    "\n",
    "# Utility function to find largest element using sort function\n",
    "def findLargestUsingSort(arr, l):\n",
    "    #sort the array. Default is ascending order\n",
    "    arr.sort()\n",
    "    return arr[l-1]\n",
    "\n",
    "# Utility function to find largest element using reduce function\n",
    "def findLargestUsingReduce(arr):\n",
    "    return reduce(max, arr)\n",
    "\n",
    "# Utility function to find largest element using operator.gt()\n",
    "def findLargestUsingOperator(arr):\n",
    "    ma = 0\n",
    "    for i in arr:\n",
    "        if(operator.gt(i, ma)):\n",
    "            ma = i\n",
    "    return ma\n",
    "\n",
    "# Utility function to find largest element using lambda\n",
    "def findLargestUsingLambda(arr):\n",
    "    return max(arr, key = lambda x:x)\n",
    "\n",
    "#input\n",
    "arr = [24, 5, 4, 20, 234, 34]\n",
    "l = len(arr)\n",
    "print(\"Largest element in the array using native approach is :\", findLargest(arr, l))\n",
    "print(\"Largest element in the array using max function is :\", findLargestUsingMax(arr))\n",
    "print(\"Largest element in the array using sort funtion is :\", findLargestUsingSort(arr, l))\n",
    "print(\"Largest element in the array using reduce function is :\", findLargestUsingReduce(arr))\n",
    "print(\"Largest element in the array using operator function is :\", findLargestUsingOperator(arr))\n",
    "print(\"Largest element in the array using lambada function is :\", findLargestUsingLambda(arr))"
   ]
  },
  {
   "cell_type": "code",
   "execution_count": 54,
   "metadata": {},
   "outputs": [
    {
     "name": "stdout",
     "output_type": "stream",
     "text": [
      "Array rotation by 1 is : [2, 3, 4, 5, 6, 7, 1]\n",
      "Array rotation by 2 is : [3, 4, 5, 6, 7, 1, 2]\n",
      "Array rotation by 5 is : [6, 7, 1, 2, 3, 4, 5]\n",
      "Array rotation by 5 using loop is:  [6, 7, 1, 2, 3, 4, 5]\n"
     ]
    }
   ],
   "source": [
    "# Python program for array rotation\n",
    "# Utility function for left rotation of array by using specified left shift number - list slicing\n",
    "def leftRotationByParam(arr, param):\n",
    "    start = 0\n",
    "    end = len(arr)\n",
    "    #add the two sliced arrays into a new array\n",
    "    b = arr[param:end] + arr[start:param]\n",
    "    return b\n",
    "\n",
    "# Utility function for left rotation using for loop\n",
    "def leftRotate(arr, param):\n",
    "    for i in range(param):\n",
    "        leftRotationByParamLoop(arr, param)\n",
    "        \n",
    "def leftRotationByParamLoop(arr, param):\n",
    "    temp = arr[0]\n",
    "    n = len(arr)\n",
    "    for i in range(n-1):\n",
    "        arr[i] = arr[i+1]\n",
    "    arr[n-1] = temp\n",
    "    \n",
    "# Driver code to test the above function\n",
    "# input array\n",
    "a = [1,2,3,4,5,6,7]\n",
    "\n",
    "# print left rotated array by the specified left shift param\n",
    "print(\"Array rotation by 1 is :\", leftRotationByParam(a, 1))\n",
    "print(\"Array rotation by 2 is :\", leftRotationByParam(a, 2))\n",
    "print(\"Array rotation by 5 is :\", leftRotationByParam(a, 5))\n",
    "\n",
    "leftRotate(a, 5)\n",
    "print(\"Array rotation by 5 using loop is: \", a)"
   ]
  },
  {
   "cell_type": "code",
   "execution_count": 60,
   "metadata": {},
   "outputs": [
    {
     "name": "stdout",
     "output_type": "stream",
     "text": [
      "Array rotation by using reversal algorithm : [5, 6, 7, 8, 9, 10, 1, 2, 3, 4]\n",
      "Array rotation using loop : [5, 6, 7, 8, 9, 10, 1, 2, 3, 4]\n"
     ]
    }
   ],
   "source": [
    "# Python program for reversal algorithm for array rotation\n",
    "def reverseArray(arr, d):\n",
    "    b = arr[d:] + arr[:d]\n",
    "    return b\n",
    "\n",
    "def reverseArrayUsingLoop(arr, start, end):\n",
    "    while(start < end):\n",
    "        temp = arr[start]\n",
    "        arr[start] = arr[end]\n",
    "        arr[end] = temp\n",
    "        start += 1\n",
    "        end = end-1\n",
    "\n",
    "def rotateArray(arr, d):\n",
    "    n = len(arr)\n",
    "    reverseArrayUsingLoop(arr, 0, d-1)\n",
    "    reverseArrayUsingLoop(arr, d, n-1)\n",
    "    reverseArrayUsingLoop(arr, 0, n-1)\n",
    "\n",
    "#input\n",
    "a = [1,2,3,4,5,6,7,8,9,10]\n",
    "print(\"Array rotation by using reversal algorithm :\", reverseArray(a, 4))\n",
    "\n",
    "rotateArray(a, 4)\n",
    "print(\"Array rotation using loop :\", a)"
   ]
  },
  {
   "cell_type": "code",
   "execution_count": 67,
   "metadata": {},
   "outputs": [
    {
     "name": "stdout",
     "output_type": "stream",
     "text": [
      "Array after split and move first is : [3, 4, 5, 6, 1, 2]\n",
      "Array after split and move first using extend is : [3, 4, 5, 6, 1, 2]\n"
     ]
    }
   ],
   "source": [
    "# Python program to split the array and add the first part to the end\n",
    "def splitArrayAndMoveFirstUsingExtend(arr, d):\n",
    "    x = arr[:d]\n",
    "    y = arr[d:]\n",
    "    y.extend(x)\n",
    "    return y\n",
    "\n",
    "a = [1,2,3,4,5,6]\n",
    "print(\"Array after split and move first is :\", leftRotationByParam(a, 2))\n",
    "print(\"Array after split and move first using extend is :\", splitArrayAndMoveFirstUsingExtend(a, 2))"
   ]
  },
  {
   "cell_type": "code",
   "execution_count": 71,
   "metadata": {},
   "outputs": [
    {
     "name": "stdout",
     "output_type": "stream",
     "text": [
      "Reminder of array a multiplication is:  0\n",
      "Reminder of array b multiplication is:  7\n",
      "Reminder of array a multiplication using reduce is:  0\n",
      "Reminder of array b multiplication using reduce is:  7\n"
     ]
    }
   ],
   "source": [
    "# Python program to find reminder of array multiplication divided by n\n",
    "\n",
    "def remAfterArrayMultiplication(arr, n):\n",
    "    m = 1\n",
    "    for i in arr:\n",
    "        m = m * i\n",
    "    return m % n\n",
    "\n",
    "def findReminderUsingReduce(arr, n):\n",
    "    m = reduce(lambda x, y: x*y, arr)\n",
    "    return m % n\n",
    "\n",
    "# input\n",
    "a = [2, 4, 6, 8, 10]\n",
    "b = [23, 4, 65]\n",
    "print(\"Reminder of array a multiplication is: \", remAfterArrayMultiplication(a, 5))\n",
    "print(\"Reminder of array b multiplication is: \", remAfterArrayMultiplication(b, 11))\n",
    "\n",
    "print(\"Reminder of array a multiplication using reduce is: \", findReminderUsingReduce(a, 5))\n",
    "print(\"Reminder of array b multiplication using reduce is: \", findReminderUsingReduce(b, 11))"
   ]
  },
  {
   "cell_type": "code",
   "execution_count": 75,
   "metadata": {},
   "outputs": [
    {
     "name": "stdout",
     "output_type": "stream",
     "text": [
      "Is Given array [3, 65, 76, 94, 100] monotone? True\n",
      "Is Given array [87, 65, 44, 23, 2] monotone? True\n",
      "Is Given array [5, 76, 23, 78, 100] monotone? False\n"
     ]
    }
   ],
   "source": [
    "# Python program to check if given array is Monotonic or not\n",
    "# it should be either in increasing order or decreasing order\n",
    "\n",
    "def isMonotonic(arr):\n",
    "    x, y = [], []\n",
    "    x.extend(arr)\n",
    "    y.extend(arr)\n",
    "    x.sort()\n",
    "    y.sort(reverse = True)\n",
    "    return (x == arr or arr == y)\n",
    "\n",
    "a = [3, 65, 76, 94, 100]\n",
    "b = [87, 65, 44, 23, 2]\n",
    "c = [5, 76, 23, 78, 100]\n",
    "\n",
    "print(\"Is Given array\", a, \"monotone?\", isMonotonic(a))\n",
    "print(\"Is Given array\", b, \"monotone?\", isMonotonic(b))\n",
    "print(\"Is Given array\", c, \"monotone?\", isMonotonic(c))"
   ]
  },
  {
   "cell_type": "code",
   "execution_count": null,
   "metadata": {},
   "outputs": [],
   "source": []
  }
 ],
 "metadata": {
  "kernelspec": {
   "display_name": "Python 3",
   "language": "python",
   "name": "python3"
  },
  "language_info": {
   "codemirror_mode": {
    "name": "ipython",
    "version": 3
   },
   "file_extension": ".py",
   "mimetype": "text/x-python",
   "name": "python",
   "nbconvert_exporter": "python",
   "pygments_lexer": "ipython3",
   "version": "3.8.5"
  }
 },
 "nbformat": 4,
 "nbformat_minor": 4
}
