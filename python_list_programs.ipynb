{
 "cells": [
  {
   "cell_type": "code",
   "execution_count": 34,
   "metadata": {},
   "outputs": [
    {
     "name": "stdout",
     "output_type": "stream",
     "text": [
      "New list after interchanging first and last elements is : [34, 44, 54, 6, 2]\n"
     ]
    }
   ],
   "source": [
    "# Python program to interchange first and last elements in a list\n",
    "\n",
    "# Utility function to interchange first and last elements in a list\n",
    "def interchange_first_and_last_elements(lst):\n",
    "    n = len(lst)\n",
    "    temp = lst[0]\n",
    "    lst[0] = lst[n-1]\n",
    "    lst[n-1] = temp\n",
    "    return lst\n",
    "\n",
    "# input\n",
    "a_list = [2, 44, 54, 6, 34]\n",
    "print(\"New list after interchanging first and last elements is :\", interchange_first_and_last_elements(a_list))\n",
    "    "
   ]
  },
  {
   "cell_type": "code",
   "execution_count": 18,
   "metadata": {},
   "outputs": [
    {
     "name": "stdout",
     "output_type": "stream",
     "text": [
      "list after swapping using Temp : [11, 56, 7, 23, 3, 20]\n",
      "list after swapping using Comma : [11, 56, 20, 23, 3, 7]\n",
      "list after swapping using list operations : [3, 6, 5, 4, 8, 2]\n",
      "list after swapping using tuple variable : [32, 41, 28, 16, 35, 62]\n",
      "list after swapping using enumerate : [4, 65, 3, 7, 2, 8]\n"
     ]
    }
   ],
   "source": [
    "# Python program to swap two elements in a list\n",
    "\n",
    "# Utility function to swap two elements in a list\n",
    "def swap_elements_using_temp(lst, pos1, pos2):\n",
    "    temp = lst[pos1]\n",
    "    lst[pos1] = lst[pos2]\n",
    "    lst[pos2] = temp\n",
    "    return lst\n",
    "\n",
    "# Utility function to swap two elements using Comma\n",
    "def swap_elements_using_comma(lst, pos1, pos2):\n",
    "    lst[pos1], lst[pos2] = lst[pos2], lst[pos1]\n",
    "    return lst\n",
    "\n",
    "# Utility function to swap two elements using List operations\n",
    "def swap_elements_using_list_oper(lst, pos1, pos2):\n",
    "    first_elem = lst.pop(pos1)\n",
    "    # after pop list length will be reduced by 1\n",
    "    second_elem = lst.pop(pos2-1)\n",
    "    lst.insert(pos1, second_elem)\n",
    "    lst.insert(pos2, first_elem)\n",
    "    return lst\n",
    "\n",
    "# Utility function to swap two elements using Tuple variable\n",
    "def swap_elements_using_tuple_var(lst, pos1, pos2):\n",
    "    # storing the two variables as a pair in the tuple variable get\n",
    "    get = lst[pos1], lst[pos2]\n",
    "    # unboxing tuple variable\n",
    "    lst[pos2], lst[pos1] = get\n",
    "    return lst\n",
    "\n",
    "# Utility function to swap two elements using enumerate\n",
    "def swap_elements_using_enum(lst, pos1, pos2):\n",
    "    for i, x in enumerate(lst):\n",
    "        if i == pos1:\n",
    "            elem1 = x\n",
    "        if i == pos2:\n",
    "            elem2 = x\n",
    "    lst[pos1] = elem2\n",
    "    lst[pos2] = elem1\n",
    "    return lst\n",
    "        \n",
    "\n",
    "# input\n",
    "b_list = [3, 56, 7, 23, 11, 20]\n",
    "pos1, pos2 = 1, 5\n",
    "\n",
    "print(\"list after swapping using Temp :\", swap_elements_using_temp(b_list, pos1-1, pos2-1))\n",
    "\n",
    "pos3, pos4 = 3, 6\n",
    "print(\"list after swapping using Comma :\", swap_elements_using_comma(b_list, pos3-1, pos4-1))\n",
    "\n",
    "pos5, pos6 = 2, 4\n",
    "print(\"list after swapping using list operations :\", \n",
    "      swap_elements_using_list_oper([3, 4, 5, 6, 8, 2], pos5-1, pos6-1))\n",
    "\n",
    "pos7, pos8 = 3, 5\n",
    "print(\"list after swapping using tuple variable :\", \n",
    "      swap_elements_using_tuple_var([32, 41, 35, 16, 28, 62], pos7-1, pos8-1))\n",
    "\n",
    "pos9, pos10 = 2, 3\n",
    "print(\"list after swapping using enumerate :\", \n",
    "      swap_elements_using_enum([4, 3, 65, 7, 2, 8], pos9-1, pos10-1))"
   ]
  },
  {
   "cell_type": "code",
   "execution_count": 35,
   "metadata": {},
   "outputs": [
    {
     "name": "stdout",
     "output_type": "stream",
     "text": [
      "Length of the given list using len is : 7\n",
      "Length of the given list using Naive is : 7\n",
      "Length of the given list using length_hint is : 7\n",
      "Length of the given list using sum and list comprehension is : 7\n"
     ]
    }
   ],
   "source": [
    "# Program to find length of a list in Python\n",
    "from operator import length_hint\n",
    "\n",
    "# Utility function to find length of a list using inbuilt len function\n",
    "def find_length(lst):\n",
    "    n = len(lst)\n",
    "    return n\n",
    "\n",
    "# Utility function to find length of a list using Naive method\n",
    "def find_length_naive(lst):\n",
    "    counter = 0\n",
    "    for i in lst:\n",
    "        counter = counter + 1\n",
    "    return counter\n",
    "\n",
    "# Utility function to find length of a list using length_hint from operator\n",
    "def find_length_oper(lst):\n",
    "    h = length_hint(lst)\n",
    "    return h\n",
    "\n",
    "# Utility function to find length of a list using sum and list comprehension\n",
    "def find_length_using_list_comprehension(lst):\n",
    "    # list comprehension generates a sequence of 1s for every element in the list\n",
    "    # sum function will add all the 1s and gives the length\n",
    "    le = sum(1 for i in list1)\n",
    "    return le\n",
    "\n",
    "# input\n",
    "list1 = [3, 4, 5, 6, 7, 8, 9]\n",
    "print(\"Length of the given list using len is :\", find_length(list1))\n",
    "print(\"Length of the given list using Naive is :\", find_length_naive(list1))\n",
    "print(\"Length of the given list using length_hint is :\", find_length_oper(list1))\n",
    "print(\"Length of the given list using sum and list comprehension is :\", find_length_using_list_comprehension(list1))"
   ]
  },
  {
   "cell_type": "code",
   "execution_count": 38,
   "metadata": {},
   "outputs": [
    {
     "name": "stdout",
     "output_type": "stream",
     "text": [
      "Given element 55 exists in the list [3, 5, 6, 7, 34, 55, 4]\n",
      "Given element 2 does not exists in the list [3, 5, 6, 7, 34, 55, 4]\n",
      "Checking element existing using if:  True\n",
      "Checking element existing using set:  False\n"
     ]
    }
   ],
   "source": [
    "# Python program to find if element exists in list\n",
    "\n",
    "# Utility function to find if element exists in list or not\n",
    "def is_element_exists(lst, elem):\n",
    "    flag = False\n",
    "    for i in lst:\n",
    "        if elem == i:\n",
    "            flag = True\n",
    "            return flag\n",
    "    return flag\n",
    "\n",
    "# Utility function to find if element exists in list or not using if\n",
    "def is_element_exists_using_if(lst, elem):\n",
    "    fl = False\n",
    "    if elem in lst:\n",
    "        fl = True\n",
    "    return fl\n",
    "\n",
    "# Utility function to find if element exists in list or not using set\n",
    "def is_element_exists_using_set(lst, target):\n",
    "    return target in set(lst)\n",
    "\n",
    "# input\n",
    "list2 = [3, 5, 6, 7, 34, 55, 4]\n",
    "elem1 = 55\n",
    "elem2 = 2\n",
    "\n",
    "if(is_element_exists(list2, elem1)):\n",
    "    print(\"Given element\", elem1, \"exists in the list\", list2)\n",
    "else:\n",
    "    print(\"Given element\", elem1, \"does not exists in the list\", list2)\n",
    "    \n",
    "if(isElementExists(list2, elem2)):\n",
    "    print(\"Given element\", elem2, \"exists in the list\", list2)\n",
    "else:\n",
    "    print(\"Given element\", elem2, \"does not exists in the list\", list2) \n",
    "    \n",
    "print(\"Checking element existing using if: \", is_element_exists_using_if(list2, 34))  \n",
    "\n",
    "print(\"Checking element existing using set: \", is_element_exists_using_set(list2, 1))"
   ]
  },
  {
   "cell_type": "code",
   "execution_count": 45,
   "metadata": {},
   "outputs": [
    {
     "name": "stdout",
     "output_type": "stream",
     "text": [
      "list after clearing using clear is:  []\n",
      "list after clearing using reinitialization is:  []\n",
      "list after clearing using del is:  []\n",
      "list after clearing using pop is:  []\n"
     ]
    }
   ],
   "source": [
    "# Python program to clear a list\n",
    "\n",
    "# Utility function to clear a list using clear method\n",
    "def clear_list(lst):\n",
    "    lst.clear()\n",
    "    return lst\n",
    "\n",
    "# Utility function to clear a list using reinitialization\n",
    "def clear_list_reinitialize(lst):\n",
    "    lst = []\n",
    "    return lst\n",
    "\n",
    "# Utility function to clear a list using del\n",
    "def clear_list_del(lst):\n",
    "    del lst[:]\n",
    "    return lst\n",
    "\n",
    "# Utility function to clear a list using while and pop\n",
    "def clear_list_pop(lst):\n",
    "    while (len(lst) != 0):\n",
    "        lst.pop()\n",
    "    return lst\n",
    "\n",
    "new_list_1 = [3, 4, 5, 6]\n",
    "print(\"list after clearing using clear is: \", clear_list(new_list_1))\n",
    "\n",
    "new_list_2 = [13, 34, 55, 36]\n",
    "print(\"list after clearing using reinitialization is: \", clear_list_reinitialize(new_list_2))\n",
    "\n",
    "new_list_3 = [14, 36, 5, 6]\n",
    "print(\"list after clearing using del is: \", clear_list_del(new_list_3))\n",
    "\n",
    "new_list_4 = [4, 6, 53, 61]\n",
    "print(\"list after clearing using pop is: \", clear_list_pop(new_list_4))"
   ]
  },
  {
   "cell_type": "code",
   "execution_count": 46,
   "metadata": {},
   "outputs": [
    {
     "name": "stdout",
     "output_type": "stream",
     "text": [
      "Reversed list using slice is:  [55, 44, 33, 22, 11]\n",
      "Reversed list using insert is:  [55, 44, 33, 22, 11]\n",
      "Reversed list using reverse is:  [55, 44, 33, 22, 11]\n"
     ]
    }
   ],
   "source": [
    "# Reversing a list in Python\n",
    "\n",
    "# Utility function to reverse a list using slicing\n",
    "def reverse_list_slice(lst):\n",
    "    lst = lst[::-1]\n",
    "    return lst\n",
    "\n",
    "# Utility function to reverse a list using insert\n",
    "def reverse_list_insert(lst):\n",
    "    new_list = []\n",
    "    for i in lst:\n",
    "        new_list.insert(0, i)\n",
    "    return new_list\n",
    "\n",
    "# Utility function to reverse a list using reverse method\n",
    "def reverse_list_rev(lst):\n",
    "    lst.reverse()\n",
    "    return lst\n",
    "\n",
    "list_a = [11, 22, 33, 44, 55]\n",
    "print(\"Reversed list using slice is: \", reverse_list_slice(list_a))\n",
    "print(\"Reversed list using insert is: \", reverse_list_insert(list_a))\n",
    "print(\"Reversed list using reverse is: \", reverse_list_rev(list_a))"
   ]
  },
  {
   "cell_type": "code",
   "execution_count": 51,
   "metadata": {},
   "outputs": [
    {
     "name": "stdout",
     "output_type": "stream",
     "text": [
      "sum of elements in the list : 338\n",
      "product of elements in the list : 1372390905600\n",
      "Max of elements in the list : 99\n",
      "Min of elements in the list : 2\n",
      "unique sorted list : [2, 4, 6, 11, 34, 45, 55, 78, 99]\n",
      "2nd largest element in the list : 78\n",
      "unique sorted list : [2, 4, 6, 11, 34, 45, 55, 78, 99]\n",
      "5th largest element in the list : 34\n"
     ]
    }
   ],
   "source": [
    "# Python program for some list operations like add, product, max, min\n",
    "import numpy as np\n",
    "\n",
    "def unique_sorted_list(lst):\n",
    "    lst2 = list(set(lst))\n",
    "    lst2.sort()\n",
    "    return lst2\n",
    "\n",
    "def nth_largest(lst, n):\n",
    "    lst = unique_sorted_list(lst)\n",
    "    print(\"unique sorted list :\", lst)\n",
    "    return lst[-n]\n",
    "    \n",
    "my_list = [11, 2, 34, 4, 4, 6, 55, 45, 78, 99]\n",
    "\n",
    "print(\"sum of elements in the list :\", sum(my_list))\n",
    "print(\"product of elements in the list :\", np.prod(my_list))\n",
    "print(\"Max of elements in the list :\", max(my_list))\n",
    "print(\"Min of elements in the list :\", min(my_list))\n",
    "print(\"2nd largest element in the list :\", nth_largest(my_list, 2))\n",
    "print(\"5th largest element in the list :\", nth_largest(my_list, 5))"
   ]
  },
  {
   "cell_type": "code",
   "execution_count": 57,
   "metadata": {},
   "outputs": [
    {
     "name": "stdout",
     "output_type": "stream",
     "text": [
      "Original list : [33, 44, [5, 51], 66, 77]\n",
      "Shallow copy before change: [33, 44, [5, 51], 66, 77]\n",
      "Deep copy before change: [33, 44, [5, 51], 66, 77]\n",
      "Shallow copy after change: [33, 44, [2, 51], 66, 77]\n",
      "Original list after shallow copy: [33, 44, [2, 51], 66, 77]\n",
      "Deep copy after change: [33, 44, [4, 51], 66, 77]\n",
      "Original list after deep copy: [33, 44, [2, 51], 66, 77]\n"
     ]
    }
   ],
   "source": [
    "# Python program for shallow copy and deep copy of the list\n",
    "import copy\n",
    "\n",
    "list_m = [33, 44, [5, 51], 66, 77]\n",
    "print(\"Original list :\", list_m)\n",
    "\n",
    "# shallow copy\n",
    "list_n = copy.copy(list_m)\n",
    "print(\"Shallow copy before change:\", list_n)\n",
    "\n",
    "# deep copy\n",
    "list_o = copy.deepcopy(list_m)\n",
    "print(\"Deep copy before change:\", list_o)\n",
    "\n",
    "list_n[2][0] = 2\n",
    "list_o[2][0] = 4\n",
    "\n",
    "print(\"Shallow copy after change:\", list_n)\n",
    "print(\"Original list after shallow copy:\", list_m)\n",
    "\n",
    "print(\"Deep copy after change:\", list_o)\n",
    "print(\"Original list after deep copy:\", list_m)"
   ]
  },
  {
   "cell_type": "code",
   "execution_count": null,
   "metadata": {},
   "outputs": [],
   "source": []
  }
 ],
 "metadata": {
  "kernelspec": {
   "display_name": "Python 3",
   "language": "python",
   "name": "python3"
  },
  "language_info": {
   "codemirror_mode": {
    "name": "ipython",
    "version": 3
   },
   "file_extension": ".py",
   "mimetype": "text/x-python",
   "name": "python",
   "nbconvert_exporter": "python",
   "pygments_lexer": "ipython3",
   "version": "3.8.5"
  }
 },
 "nbformat": 4,
 "nbformat_minor": 4
}
